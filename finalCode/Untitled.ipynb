{
 "cells": [
  {
   "cell_type": "code",
   "execution_count": null,
   "metadata": {},
   "outputs": [],
   "source": [
    "from scipy import signal\n",
    "from scipy import misc\n",
    "import glob\n",
    "from PIL import Image\n",
    "import numpy as np\n",
    "from scipy import signal\n",
    "import matplotlib.pyplot as plt\n",
    "import time\n",
    "\n",
    "\n",
    "template = np.array(Image.open(\"test_left_1.tiff\"))\n",
    "pattern = np.array(Image.open(\"test_right_1.tiff\"))\n",
    "template = 0.2989 * template[:, :, 0] + 0.5870 * template[:, :, 0] + 0.1140 * template[:, :, 0]\n",
    "pattern = 0.2989 * pattern[:, :, 0] + 0.5870 * pattern[:, :, 0] + 0.1140 * pattern[:, :, 0]\n",
    "\n",
    "corr = signal.correlate2d(pattern, template)\n",
    "y, x = np.unravel_index(np.argmax(corr), corr.shape)  # find the match\n",
    "\n",
    "\n",
    "\n",
    "\n",
    "import matplotlib.pyplot as plt\n",
    "fig, (ax_orig, ax_template, ax_corr) = plt.subplots(1, 3)\n",
    "ax_orig.imshow(pattern, cmap='gray')\n",
    "ax_orig.set_title('Original')\n",
    "ax_orig.set_axis_off()\n",
    "ax_template.imshow(template, cmap='gray')\n",
    "ax_template.set_title('Template')\n",
    "ax_template.set_axis_off()\n",
    "ax_corr.imshow(corr, cmap='gray')\n",
    "ax_corr.set_title('Cross-correlation')\n",
    "ax_corr.set_axis_off()\n",
    "ax_orig.plot(x, y, 'ro')\n",
    "fig.show()"
   ]
  },
  {
   "cell_type": "code",
   "execution_count": null,
   "metadata": {},
   "outputs": [],
   "source": []
  }
 ],
 "metadata": {
  "kernelspec": {
   "display_name": "Python 3",
   "language": "python",
   "name": "python3"
  },
  "language_info": {
   "codemirror_mode": {
    "name": "ipython",
    "version": 3
   },
   "file_extension": ".py",
   "mimetype": "text/x-python",
   "name": "python",
   "nbconvert_exporter": "python",
   "pygments_lexer": "ipython3",
   "version": "3.6.10"
  }
 },
 "nbformat": 4,
 "nbformat_minor": 4
}
