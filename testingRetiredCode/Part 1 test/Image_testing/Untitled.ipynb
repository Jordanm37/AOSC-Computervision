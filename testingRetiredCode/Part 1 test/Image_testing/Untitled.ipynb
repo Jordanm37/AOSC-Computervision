{
 "cells": [
  {
   "cell_type": "code",
   "execution_count": 5,
   "metadata": {},
   "outputs": [],
   "source": [
    "import glob\n",
    "from PIL import Image\n",
    "import numpy as np\n",
    "from scipy import signal\n",
    "import matplotlib.pyplot as plt\n",
    "from itertools import islice\n",
    "import matplotlib.image as mpimg\n"
   ]
  },
  {
   "cell_type": "code",
   "execution_count": 6,
   "metadata": {},
   "outputs": [],
   "source": [
    "def read_image(image_name):\n",
    "    \"\"\"\n",
    "    Read image\n",
    "\n",
    "    Inputs:\n",
    "    ----------------\n",
    "        image_name   Image path\n",
    "\n",
    "    Output:\n",
    "    ----------------\n",
    "        img  Image as multi channel array\n",
    "       \"\"\"\n",
    "    img = mpimg.imread(image_name)\n",
    "    #im_array = np.array(img)\n",
    "\n",
    "    return img"
   ]
  },
  {
   "cell_type": "code",
   "execution_count": 2,
   "metadata": {},
   "outputs": [
    {
     "ename": "NameError",
     "evalue": "name 'filepath' is not defined",
     "output_type": "error",
     "traceback": [
      "\u001b[1;31m------------------------------------------------------------------\u001b[0m",
      "\u001b[1;31mNameError\u001b[0m                        Traceback (most recent call last)",
      "\u001b[1;32m<ipython-input-2-dedcbe3424f0>\u001b[0m in \u001b[0;36m<module>\u001b[1;34m\u001b[0m\n\u001b[0;32m      1\u001b[0m \u001b[0mtemplate_fn\u001b[0m \u001b[1;33m=\u001b[0m \u001b[1;34m\"\"\u001b[0m\u001b[1;33m\u001b[0m\u001b[1;33m\u001b[0m\u001b[0m\n\u001b[0;32m      2\u001b[0m \u001b[0mpattern_fn\u001b[0m \u001b[1;33m=\u001b[0m \u001b[1;34m\"\"\u001b[0m\u001b[1;33m\u001b[0m\u001b[1;33m\u001b[0m\u001b[0m\n\u001b[1;32m----> 3\u001b[1;33m \u001b[0mfileNames\u001b[0m \u001b[1;33m=\u001b[0m \u001b[0mglob\u001b[0m\u001b[1;33m.\u001b[0m\u001b[0mglob\u001b[0m\u001b[1;33m(\u001b[0m\u001b[0mfilepath\u001b[0m\u001b[1;33m+\u001b[0m\u001b[1;34m\"*.*\"\u001b[0m\u001b[1;33m)\u001b[0m\u001b[1;33m\u001b[0m\u001b[1;33m\u001b[0m\u001b[0m\n\u001b[0m\u001b[0;32m      4\u001b[0m \u001b[1;32mfor\u001b[0m \u001b[0mfileName\u001b[0m \u001b[1;32min\u001b[0m \u001b[0mfileNames\u001b[0m\u001b[1;33m:\u001b[0m\u001b[1;33m\u001b[0m\u001b[1;33m\u001b[0m\u001b[0m\n\u001b[0;32m      5\u001b[0m     \u001b[0mprint\u001b[0m\u001b[1;33m(\u001b[0m\u001b[0mfileName\u001b[0m\u001b[1;33m)\u001b[0m\u001b[1;33m\u001b[0m\u001b[1;33m\u001b[0m\u001b[0m\n",
      "\u001b[1;31mNameError\u001b[0m: name 'filepath' is not defined"
     ]
    }
   ],
   "source": [
    "template_fn = \"\"\n",
    "pattern_fn = \"\"\n",
    "fileNames = glob.glob(filepath+\"*.*\")\n",
    "for fileName in fileNames:\n",
    "    print(fileName)\n",
    "    if \"right\" in fileName:  # right_ is for the file type in the test folder may beremoved if files are named properly\n",
    "        template_fn = fileName\n",
    "    elif \"left\" in fileName:\n",
    "        pattern_fn = fileName\n",
    "\n",
    "if template_fn == \"\" or pattern_fn == \"\":\n",
    "    print(\"Both (or one) files not available\")\n",
    "    return False\n",
    "try:\n",
    "    template = np.array(Image.open(template_fn))\n",
    "    pattern = np.array(Image.open(pattern_fn))\n",
    "except expression as identifier:\n",
    "    print(\"Error in Reading the files\")\n",
    "    return False\n",
    "try:\n",
    "    template = 0.2989 * template[:, :, 0] + 0.5870 * \\\n",
    "        template[:, :, 0] + 0.1140 * template[:, :, 0]\n",
    "    pattern = 0.2989 * pattern[:, :, 0] + 0.5870 * \\\n",
    "        pattern[:, :, 0] + 0.1140 * pattern[:, :, 0]\n",
    "\n",
    "except expression as identifier:\n",
    "    print(\"Error in Converting from RGB to Gray scale\")\n",
    "    return False"
   ]
  },
  {
   "cell_type": "code",
   "execution_count": 14,
   "metadata": {
    "scrolled": true
   },
   "outputs": [
    {
     "name": "stdout",
     "output_type": "stream",
     "text": [
      "[[array([[0., 0., 0., ..., 0., 0., 0.],\n",
      "       [0., 0., 0., ..., 0., 0., 0.],\n",
      "       [0., 0., 0., ..., 0., 0., 0.],\n",
      "       ...,\n",
      "       [0., 0., 0., ..., 0., 0., 0.],\n",
      "       [0., 0., 0., ..., 0., 0., 0.],\n",
      "       [0., 0., 0., ..., 0., 0., 0.]]), array([[0., 0., 0., ..., 0., 0., 0.],\n",
      "       [0., 0., 0., ..., 0., 0., 0.],\n",
      "       [0., 0., 0., ..., 0., 0., 0.],\n",
      "       ...,\n",
      "       [0., 0., 0., ..., 0., 0., 0.],\n",
      "       [0., 0., 0., ..., 0., 0., 0.],\n",
      "       [0., 0., 0., ..., 0., 0., 0.]])]]\n"
     ]
    }
   ],
   "source": [
    "# Task 2.a\n",
    "def get_grid(image, numY, numX):\n",
    "    '''\n",
    "    Task 2.a.\n",
    "    This  Function Receives one image and devide the image to multiple windows based on numY and numX as number of widows in y and x  axis \n",
    "    This reurns a 2D array of smaller images(windows)\n",
    "    '''\n",
    "    Y, X = image.shape\n",
    "    Ylen = int(Y / numY)\n",
    "    Xlen = int(X / numX)\n",
    "\n",
    "    wins = []\n",
    "    for i in range(0, numY):\n",
    "        row = []\n",
    "        for j in range(0, numX):\n",
    "            row.append(image[(i * Ylen): (((i + 1) * Ylen)),\n",
    "                            (j * Xlen): (((j + 1) * Xlen))])\n",
    "    wins.append(row)\n",
    "\n",
    "    return wins\n",
    "\n",
    "image =  read_image(\"test_left_1.tiff\")\n",
    "image_mean_1= image[:,:,0:3].mean(axis=2)\n",
    "windowed = get_grid(image_mean_1, 2, 2)\n",
    "\n",
    "print(windowed)"
   ]
  },
  {
   "cell_type": "code",
   "execution_count": null,
   "metadata": {},
   "outputs": [],
   "source": [
    "# Task 2.a\n",
    "def get_grid_overlap(image, numY, numX, overlap):\n",
    "    '''\n",
    "    Task 2.b.\n",
    "    This  Function Receives one image and divide the image to multiple windows based on numY and numX  and Overlap\n",
    "    In this function calculates the widow location depending on the overlap\n",
    "    This reurns a 2D array of smaller images(windows)\n",
    "    '''\n",
    "    Y, X = image.shape\n",
    "    Ylen = int(Y / numY)\n",
    "    Xlen = int(X / numX)\n",
    "    Yol = int(Ylen * overlap / 100)\n",
    "    Xol = int(Xlen * overlap / 100)\n",
    "    if ((not(Ylen * numY == Y)) or (not(Xlen * numX == X))):\n",
    "        print(\"The no of window does not match with ith image size. Trimming the image and continue\")\n",
    "    wins = []\n",
    "    i = 0\n",
    "    j = 0\n",
    "    while i < Y:\n",
    "        row = []\n",
    "        j = 0\n",
    "        while j < X:\n",
    "            row.append(image[i: (i + Ylen), j: (j + Xlen)])\n",
    "            j = j + Xol\n",
    "        wins.append(row)\n",
    "        i = i + Yol\n",
    "    return wins"
   ]
  },
  {
   "cell_type": "code",
   "execution_count": null,
   "metadata": {},
   "outputs": [],
   "source": []
  },
  {
   "cell_type": "code",
   "execution_count": null,
   "metadata": {},
   "outputs": [],
   "source": []
  }
 ],
 "metadata": {
  "kernelspec": {
   "display_name": "Python 3",
   "language": "python",
   "name": "python3"
  },
  "language_info": {
   "codemirror_mode": {
    "name": "ipython",
    "version": 3
   },
   "file_extension": ".py",
   "mimetype": "text/x-python",
   "name": "python",
   "nbconvert_exporter": "python",
   "pygments_lexer": "ipython3",
   "version": "3.7.6"
  }
 },
 "nbformat": 4,
 "nbformat_minor": 4
}
